{
 "cells": [
  {
   "cell_type": "code",
   "execution_count": 1,
   "metadata": {},
   "outputs": [
    {
     "data": {
      "application/javascript": [
       "\n",
       "require(['notebook/js/codecell'], function(codecell) {\n",
       "  codecell.CodeCell.options_default.highlight_modes[\n",
       "      'magic_text/x-csrc'] = {'reg':[/^%%microblaze/]};\n",
       "  Jupyter.notebook.events.one('kernel_ready.Kernel', function(){\n",
       "      Jupyter.notebook.get_cells().map(function(cell){\n",
       "          if (cell.cell_type == 'code'){ cell.auto_highlight(); } }) ;\n",
       "  });\n",
       "});\n"
      ]
     },
     "metadata": {},
     "output_type": "display_data"
    }
   ],
   "source": [
    "from pynq import Overlay\n",
    "ol = Overlay ('Audio_Effect_Box.bit')\n",
    "ol.download()"
   ]
  },
  {
   "cell_type": "code",
   "execution_count": 2,
   "metadata": {},
   "outputs": [
    {
     "name": "stdout",
     "output_type": "stream",
     "text": [
      "The CPU Clock is at 650.0MHz\n",
      "The PL Clock 0 is at 100.0MHz\n",
      "The PL Clock 1 is at 50.0MHz\n",
      "The PL Clock 2 is at 100.0MHz\n",
      "The PL Clock 3 is at 100.0MHz\n"
     ]
    }
   ],
   "source": [
    "from pynq import Clocks\n",
    "print (\"The CPU Clock is at \" + str(Clocks.cpu_mhz) + \"MHz\")\n",
    "print (\"The PL Clock 0 is at \" + str(Clocks.fclk0_mhz) + \"MHz\")\n",
    "print (\"The PL Clock 1 is at \" + str(Clocks.fclk1_mhz) + \"MHz\")\n",
    "print (\"The PL Clock 2 is at \" + str(Clocks.fclk2_mhz) + \"MHz\")\n",
    "print (\"The PL Clock 3 is at \" + str(Clocks.fclk3_mhz) + \"MHz\")\n",
    "\n",
    "#CHANGE CLOCK FREQUENCY\n",
    "#   Clocks.{name} = {frequency}"
   ]
  },
  {
   "cell_type": "markdown",
   "metadata": {},
   "source": [
    "# IP ADDRESS\n",
    "<img src=\"Images/IP_ADDRESS.PNG\" width=\"400\">"
   ]
  },
  {
   "cell_type": "code",
   "execution_count": 3,
   "metadata": {},
   "outputs": [
    {
     "name": "stdout",
     "output_type": "stream",
     "text": [
      "MMIO Debug: MMIO(address, size) = (43c00000, 10000 bytes).\n",
      "MMIO Debug: Writing 4 bytes to offset 8: 1\n",
      "MMIO Debug: Writing 4 bytes to offset 20: a\n"
     ]
    }
   ],
   "source": [
    "from pynq import MMIO\n",
    "#I2S Receiver\n",
    "IP_BASE_ADDRESS = 0x43C00000\n",
    "ADDRESS_RANGE = 0x10000\n",
    "mmio = MMIO(IP_BASE_ADDRESS,ADDRESS_RANGE,debug=True)\n",
    "#Control Register\n",
    "mmio.write_mm(0x08, 0x1)\n",
    "#I2S Timing Control\n",
    "mmio.write_mm(0x20, 0xA)"
   ]
  },
  {
   "cell_type": "code",
   "execution_count": 4,
   "metadata": {},
   "outputs": [
    {
     "name": "stdout",
     "output_type": "stream",
     "text": [
      "MMIO Debug: MMIO(address, size) = (43c10000, 10000 bytes).\n",
      "MMIO Debug: Writing 4 bytes to offset 8: 1\n",
      "MMIO Debug: Writing 4 bytes to offset 20: a\n"
     ]
    }
   ],
   "source": [
    "#I2S Transmitter\n",
    "IP_BASE_ADDRESS = 0x43C10000\n",
    "ADDRESS_RANGE = 0x10000\n",
    "mmio = MMIO(IP_BASE_ADDRESS,ADDRESS_RANGE,debug=True)\n",
    "#Control Register\n",
    "mmio.write_mm(0x08, 0x1)\n",
    "#I2S Timing Control\n",
    "mmio.write_mm(0x20, 0xA)"
   ]
  },
  {
   "attachments": {
    "image.png": {
     "image/png": "[encoded data removed]"
    }
   },
   "cell_type": "markdown",
   "metadata": {},
   "source": [
    "# AxiICC librairy\n",
    "## Send i2c\n",
    "<blockquote>\n",
    "<code>send(self, address, data, length, option=0)</code><br>\n",
    "Send data to an attached IIC slave<br>\n",
    "**Parameters**<br>\n",
    "address : int<br>\n",
    "    &emsp;Address is the address of the IIC peripheral<br>\n",
    "data : bytes-like<br>\n",
    "    &emsp;Data is an array of bytes to be sent to the IP<br>\n",
    "length : int<br>\n",
    "    &emsp;Length is the number of bytes to be transferred<br>\n",
    "option : int<br>\n",
    "    &emsp;Optionally REPEAT_START to keep hold of the bus between transactions<br>\n",
    "</blockquote>\n",
    "\n",
    "## Receive i2c\n",
    "<blockquote>\n",
    "<code>receive(self, address, data, length, option=0)</code><br>\n",
    "Receive data from an attached IIC slave<br>\n",
    "**Parameters**<br>\n",
    "\n",
    "address : int<br>\n",
    "    &emsp;Address is the address of the IIC peripheral<br>\n",
    "data : bytes-like<br>\n",
    "    &emsp;Data is an array of bytes to receive data from the IP<br>\n",
    "length : int<br>\n",
    "    &emsp;Length is the number of bytes to be received<br>\n",
    "option : int<br>\n",
    "    &emsp;Optionally REPEAT_START to keep hold of the bus between transactions<br>\n",
    "</blockquote>\n",
    "# I²C for the ADAU1761\n",
    "<img src=\"Images/ADAU_I2C.PNG\" width=\"800\">\n",
    "# ADAU1761 Device Address\n",
    "![image.png](attachment:image.png)\n",
    "Where ADDR0 & ADDR1 are by default pull-up (default bit = 1).<br>\n",
    "The address of the device is **0x3B**."
   ]
  },
  {
   "cell_type": "code",
   "execution_count": 5,
   "metadata": {},
   "outputs": [],
   "source": [
    "def create_data (register,data):\n",
    "    hex40 = 0x40\n",
    "    return [hex40,register,data]"
   ]
  },
  {
   "cell_type": "code",
   "execution_count": 11,
   "metadata": {},
   "outputs": [
    {
     "data": {
      "text/plain": [
       "3"
      ]
     },
     "execution_count": 11,
     "metadata": {},
     "output_type": "execute_result"
    }
   ],
   "source": [
    "from pynq.lib.iic import AxiIIC\n",
    "import time\n",
    "axiiic_ip = ol.ip_dict['axi_iic_0']\n",
    "i2c = AxiIIC(axiiic_ip)\n",
    "\n",
    "#Enable Clock core\n",
    "i2c.send(0x3B,create_data(0x00,0x07),3)\n",
    "#Configure Serial port\n",
    "i2c.send(0x3B,create_data(0x16,0x40),3)\n",
    "#Enable Mixer 1\n",
    "i2c.send(0x3B,create_data(0x0A,0x01),3)\n",
    "#Set Left AUX gain to 6dB\n",
    "i2c.send(0x3B,create_data(0x0B,0x07),3)\n",
    "#Enable Mixer 2\n",
    "i2c.send(0x3B,create_data(0x0C,0x01),3)\n",
    "#Set Right AUX gain to 6dB\n",
    "i2c.send(0x3B,create_data(0x0D,0x07),3)\n",
    "#Enable both ADCs\n",
    "i2c.send(0x3B,create_data(0x19,0x03),3)\n",
    "#Enable Noise Gate\n",
    "i2c.send(0x3B,create_data(0x14,0x20),3)\n",
    "#Playback left mixer unmute, enable\n",
    "i2c.send(0x3B,create_data(0x1C,0x21),3)\n",
    "#Playback right mixer unmute, enable\n",
    "i2c.send(0x3B,create_data(0x1E,0x41),3)\n",
    "#Enable headphone output left to max\n",
    "i2c.send(0x3B,create_data(0x23,0xFF),3)\n",
    "#Enable headphone output right to max\n",
    "i2c.send(0x3B,create_data(0x24,0xFF),3)\n",
    "#Enable both DACs\n",
    "i2c.send(0x3B,create_data(0x2A,0x03),3)\n",
    "#HP+MIC Enable\n",
    "i2c.send(0x3B,create_data(0x29,0x03),3)\n",
    "#Serial input L0,R0 to DAC L,R (Route Serial in)\n",
    "i2c.send(0x3B,create_data(0xF2,0x01),3)\n",
    "#Serial output ADC L,R to serial output L0,R0 (Route Serial out)\n",
    "i2c.send(0x3B,create_data(0xF3,0x01),3)\n",
    "#Disable dejitter\n",
    "i2c.send(0x3B,create_data(0x36,0x00),3)\n",
    "#Enable clocks to all engines\n",
    "i2c.send(0x3B,create_data(0xF9,0x7F),3)\n",
    "#Enable both clock generators\n",
    "i2c.send(0x3B,create_data(0xFA,0x03),3)"
   ]
  },
  {
   "cell_type": "code",
   "execution_count": 7,
   "metadata": {},
   "outputs": [],
   "source": [
    "#Enable/Disable all effects\n"
   ]
  },
  {
   "cell_type": "code",
   "execution_count": 8,
   "metadata": {},
   "outputs": [],
   "source": [
    "#Enable LEDs for the effects"
   ]
  },
  {
   "cell_type": "code",
   "execution_count": 9,
   "metadata": {},
   "outputs": [
    {
     "ename": "OverflowError",
     "evalue": "integer 16384 does not fit 'unsigned char'",
     "output_type": "error",
     "traceback": [
      "\u001b[0;31m---------------------------------------------------------------------------\u001b[0m",
      "\u001b[0;31mOverflowError\u001b[0m                             Traceback (most recent call last)",
      "\u001b[0;32m<ipython-input-9-930f3abd1f55>\u001b[0m in \u001b[0;36m<module>\u001b[0;34m()\u001b[0m\n\u001b[1;32m      2\u001b[0m \u001b[0;34m\u001b[0m\u001b[0m\n\u001b[1;32m      3\u001b[0m \u001b[0;31m#Clock off\u001b[0m\u001b[0;34m\u001b[0m\u001b[0;34m\u001b[0m\u001b[0m\n\u001b[0;32m----> 4\u001b[0;31m \u001b[0mi2c\u001b[0m\u001b[0;34m.\u001b[0m\u001b[0msend\u001b[0m\u001b[0;34m(\u001b[0m\u001b[0;36m0x4000\u001b[0m\u001b[0;34m,\u001b[0m\u001b[0;36m0xE\u001b[0m\u001b[0;34m,\u001b[0m\u001b[0;36m1\u001b[0m\u001b[0;34m,\u001b[0m\u001b[0;36m0\u001b[0m\u001b[0;34m)\u001b[0m\u001b[0;34m\u001b[0m\u001b[0m\n\u001b[0m\u001b[1;32m      5\u001b[0m \u001b[0;31m#Configure PLL\u001b[0m\u001b[0;34m\u001b[0m\u001b[0;34m\u001b[0m\u001b[0m\n\u001b[1;32m      6\u001b[0m \u001b[0mi2c\u001b[0m\u001b[0;34m.\u001b[0m\u001b[0msend\u001b[0m\u001b[0;34m(\u001b[0m\u001b[0;36m0x4002\u001b[0m\u001b[0;34m,\u001b[0m\u001b[0;36m0x7D000C2301\u001b[0m\u001b[0;34m,\u001b[0m\u001b[0;36m6\u001b[0m\u001b[0;34m,\u001b[0m\u001b[0;36m0\u001b[0m\u001b[0;34m)\u001b[0m\u001b[0;34m\u001b[0m\u001b[0m\n",
      "\u001b[0;32m/usr/local/lib/python3.6/dist-packages/pynq/lib/iic.py\u001b[0m in \u001b[0;36msend\u001b[0;34m(self, address, data, length, option)\u001b[0m\n\u001b[1;32m    100\u001b[0m         \"\"\"\n\u001b[1;32m    101\u001b[0m         sent = AxiIIC._lib.XIic_Send(\n\u001b[0;32m--> 102\u001b[0;31m             self._virtaddr, address, data, length, option)\n\u001b[0m\u001b[1;32m    103\u001b[0m         \u001b[0;32mif\u001b[0m \u001b[0msent\u001b[0m \u001b[0;34m==\u001b[0m \u001b[0;36m0\u001b[0m\u001b[0;34m:\u001b[0m\u001b[0;34m\u001b[0m\u001b[0m\n\u001b[1;32m    104\u001b[0m             \u001b[0;32mraise\u001b[0m \u001b[0mRuntimeError\u001b[0m\u001b[0;34m(\u001b[0m\u001b[0;34m\"Could not send I2C data\"\u001b[0m\u001b[0;34m)\u001b[0m\u001b[0;34m\u001b[0m\u001b[0m\n",
      "\u001b[0;31mOverflowError\u001b[0m: integer 16384 does not fit 'unsigned char'"
     ]
    }
   ],
   "source": [
    "#Clock off\n",
    "i2c.send(0x4000,0xE,1,0)\n",
    "#Configure PLL\n",
    "i2c.send(0x4002,0x7D000C2301,6,0)\n",
    "#Wait for PPL to lock\n",
    "data = 0;\n",
    "while (data != 2) :\n",
    "    i2c.receive(0x4002,data,6,0)"
   ]
  }
 ],
 "metadata": {
  "kernelspec": {
   "display_name": "Python 3",
   "language": "python",
   "name": "python3"
  },
  "language_info": {
   "codemirror_mode": {
    "name": "ipython",
    "version": 3
   },
   "file_extension": ".py",
   "mimetype": "text/x-python",
   "name": "python",
   "nbconvert_exporter": "python",
   "pygments_lexer": "ipython3",
   "version": "3.6.5"
  }
 },
 "nbformat": 4,
 "nbformat_minor": 2
}
